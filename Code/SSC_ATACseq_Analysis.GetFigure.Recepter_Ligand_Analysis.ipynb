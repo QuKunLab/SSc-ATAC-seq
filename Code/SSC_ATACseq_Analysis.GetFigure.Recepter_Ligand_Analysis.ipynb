{
 "cells": [
  {
   "cell_type": "code",
   "execution_count": 80,
   "metadata": {},
   "outputs": [],
   "source": [
    "import pandas as pd\n",
    "import matplotlib.pyplot as plt\n",
    "import numpy as np \n",
    "import seaborn as sns\n",
    "import os\n",
    "import sys\n",
    "import scipy.stats\n",
    "import matplotlib as mpl\n",
    "from sklearn.decomposition import PCA\n",
    "from mpl_toolkits.mplot3d import Axes3D\n",
    "from compiler.ast import flatten\n",
    "from sklearn.neighbors import NearestNeighbors\n",
    "from itertools import groupby\n",
    "import math\n",
    "import networkx as nt\n",
    "import gc\n",
    "import psutil\n",
    "import scipy.stats\n",
    "#import Thestral\n",
    "from scipy.stats.mstats import gmean\n",
    "\n",
    "from scipy.stats import pearsonr\n",
    "import community\n",
    "import matplotlib.gridspec as gridspec\n",
    "import random\n"
   ]
  },
  {
   "cell_type": "code",
   "execution_count": 81,
   "metadata": {
    "collapsed": true
   },
   "outputs": [],
   "source": [
    "import scipy"
   ]
  },
  {
   "cell_type": "code",
   "execution_count": 82,
   "metadata": {
    "collapsed": true
   },
   "outputs": [],
   "source": [
    "\n",
    "def Mkdir(DirX):\n",
    "    if not os.path.exists(DirX):\n",
    "        os.mkdir(DirX)\n",
    "\n",
    "def Read(File):\n",
    "    return pd.read_table(File,sep='\\t',index_col=0)\n",
    "\n",
    "def ReadBed(File):\n",
    "    Bed=pd.read_table(File,sep='\\t',index_col=None,header=None)\n",
    "    Bed.index=Bed[3]\n",
    "    return Bed\n",
    "\n",
    "def Save(DF,File):\n",
    "    DF.to_csv(File,sep='\\t')\n",
    "\n",
    "def SaveBed(Bed,File):\n",
    "    Bed.to_csv(File,sep='\\t',index=False,header=False)\n",
    "    \n",
    "def GetState(i):\n",
    "    if 'Norm' in i: return 'Norm'\n",
    "    if 'Arm' in i: return 'Arm'\n",
    "    if 'Back' in i:return 'Back'\n",
    "    \n",
    "    \n",
    "def ReadTable(Infile):return pd.read_table(Infile,sep='\\t',index_col=0)\n",
    "\n",
    "def Mkdir(DirX):\n",
    "    if not os.path.exists(DirX):\n",
    "        os.mkdir(DirX)\n",
    "\n",
    "def meanCenter(L):\n",
    "    m=np.mean(L)\n",
    "    return [i-m for i in L]\n",
    "\n",
    "def log10(L):return -math.log(L,10)\n",
    "\n",
    "def p_adjust_bh(p):\n",
    "    p = np.asfarray(p)\n",
    "    by_descend = p.argsort()[::-1]\n",
    "    by_orig = by_descend.argsort()\n",
    "    steps = float(len(p)) / np.arange(len(p), 0, -1)\n",
    "    q = np.minimum(1, np.minimum.accumulate(steps * p[by_descend]))\n",
    "    return q[by_orig]\n",
    "\n",
    "def ReadBed(BedFile):\n",
    "    BedDF=pd.read_table(BedFile,sep='\\t',header=None,index_col=None)\n",
    "    BedDF.index=BedDF[3]\n",
    "    return BedDF\n",
    "\n",
    "def SaveTable(DF,FileName):DF.to_csv(FileName,sep='\\t')\n",
    "def SaveBed(BedDF,FileName):BedDF.to_csv(FileName,sep='\\t',index=False,header=False)\n",
    "\n",
    "    \n"
   ]
  },
  {
   "cell_type": "code",
   "execution_count": null,
   "metadata": {
    "scrolled": true
   },
   "outputs": [],
   "source": [
    "#input Files\n",
    "CountF='./OutPut/AllSamples_NormSScCommon/PeakCount.QNorm_Normalized.log2.txt'                  \n",
    "BedF='./SourceData/NormSScPeaks.bed'\n",
    "outDir='./OutPut/NetWork'\n",
    "Mkdir(outDir)\n",
    "BedDF=ReadBed(BedF)\n",
    "CountDF=ReadTable(CountF)\n"
   ]
  },
  {
   "cell_type": "code",
   "execution_count": 85,
   "metadata": {
    "collapsed": true,
    "scrolled": true
   },
   "outputs": [],
   "source": [
    "\n",
    "def GetFDC(ct):\n",
    "    NormA=CountDF[[i for i in list(CountDF) if 'Norm' in i and ct in i]]\n",
    "    AffectedA=CountDF[[i for i in list(CountDF) if 'Arm' in i and ct in i]]\n",
    "    return AffectedA.apply(np.mean,axis=1)-NormA.apply(np.mean,axis=1)\n",
    "\n"
   ]
  },
  {
   "cell_type": "code",
   "execution_count": 86,
   "metadata": {
    "collapsed": true
   },
   "outputs": [],
   "source": [
    "FDC_df=pd.DataFrame({}, index=CountDF.index)\n",
    "FDC_df['CD4']=GetFDC('CD4')\n",
    "FDC_df['CD8']=GetFDC('CD8')\n",
    "FDC_df['Fib']=GetFDC('Fib')\n",
    "FDC_df['DC']=GetFDC('DC')\n",
    "\n"
   ]
  },
  {
   "cell_type": "code",
   "execution_count": 11,
   "metadata": {},
   "outputs": [
    {
     "name": "stdout",
     "output_type": "stream",
     "text": [
      "TNF\n",
      "TNFRSF1A\n",
      "TNF-TNFRSF1A\n",
      "TNFRSF1B\n",
      "TNF-TNFRSF1B\n",
      "LTBR\n",
      "TNF-LTBR\n",
      "TNFSF7\n",
      "TNFRSF7\n",
      "TNFSF7-TNFRSF7\n",
      "LTA\n",
      "LTA-TNFRSF1A\n",
      "LTA-TNFRSF1B\n",
      "TNFRSF14\n",
      "LTA-TNFRSF14\n",
      "LTA-LTBR\n",
      "TNFSF8\n",
      "TNFRSF8\n",
      "TNFSF8-TNFRSF8\n",
      "LTB\n",
      "LTB-LTBR\n",
      "TNFSF5\n",
      "TNFRSF5\n",
      "TNFSF5-TNFRSF5\n",
      "TNFSF6\n",
      "TNFRSF6\n",
      "TNFSF6-TNFRSF6\n",
      "TNFRSF6B\n",
      "TNFSF6-TNFRSF6B\n",
      "TNFSF13\n",
      "TNFSF10\n",
      "TNFRSF10A\n",
      "TNFSF10-TNFRSF10A\n",
      "TNFRSF10B\n",
      "TNFSF10-TNFRSF10B\n",
      "TNFRSF10C\n",
      "TNFSF10-TNFRSF10C\n",
      "TNFRSF10D\n",
      "TNFSF10-TNFRSF10D\n",
      "TNFRSF11B\n",
      "TNFSF10-TNFRSF11B\n",
      "TNFSF11\n",
      "TNFRSF11A\n",
      "TNFSF11-TNFRSF11A\n",
      "TNFSF11-TNFRSF11B\n",
      "TNFSF9\n",
      "TNFRSF9\n",
      "TNFSF9-TNFRSF9\n",
      "TNFSF4\n",
      "TNFRSF4\n",
      "TNFSF4-TNFRSF4\n",
      "TNFSF14\n",
      "TNFSF14-TNFRSF14\n",
      "TNFSF14-TNFRSF6B\n",
      "TNFSF14-LTBR\n",
      "TNFSF12\n",
      "TNFRSF12\n",
      "TNFSF12-TNFRSF12\n",
      "TNFSF18\n",
      "TNFRSF18\n",
      "TNFSF18-TNFRSF18\n",
      "IL2\n",
      "IL2RA\n",
      "IL2-IL2RA\n",
      "IL2RB\n",
      "IL2-IL2RB\n",
      "IL2RG\n",
      "IL2-IL2RG\n",
      "IL7\n",
      "IL7R\n",
      "IL7-IL7R\n",
      "IL7-IL2RG\n",
      "IL9\n",
      "IL9R\n",
      "IL9-IL9R\n",
      "IL9-IL2RG\n",
      "IL15RA\n",
      "IL15-IL15RA\n",
      "IL15-IL2RB\n",
      "IL15-IL2RG\n",
      "IL4\n",
      "IL4R\n",
      "IL4-IL4R\n",
      "IL4-IL2RG\n",
      "IL13RA1\n",
      "IL4-IL13RA1\n",
      "IL13-IL13RA1\n",
      "IL13RA2\n",
      "IL13-IL13RA2\n",
      "IL13-IL4R\n",
      "IL13-IL2RG\n",
      "IL3\n",
      "IL3RA\n",
      "IL3-IL3RA\n",
      "CSF2RB\n",
      "IL3-CSF2RB\n",
      "IL5\n",
      "IL5RA\n",
      "IL5-IL5RA\n",
      "IL5-CSF2RB\n",
      "CSF2\n",
      "CSF2RA\n",
      "CSF2-CSF2RA\n",
      "CSF2-CSF2RB\n",
      "IFNG\n",
      "IFNGR1\n",
      "IFNG-IFNGR1\n",
      "IFNGR2\n",
      "IFNG-IFNGR2\n",
      "IL10\n",
      "IL10RA\n",
      "IL10-IL10RA\n",
      "IL10RB\n",
      "IL10-IL10RB\n",
      "IL17\n",
      "IL17R\n",
      "IL17-IL17R\n",
      "IL16\n",
      "CD4\n",
      "IL16-CD4\n",
      "IL12A\n",
      "IL12RB1\n",
      "IL12A-IL12RB1\n",
      "IL12RB2\n",
      "IL12A-IL12RB2\n",
      "IL12B\n",
      "IL12B-IL12RB1\n",
      "IL12B-IL12RB2\n",
      "IFNA4\n",
      "IFNAR1\n",
      "IFNA4-IFNAR1\n",
      "IFNAR2\n",
      "IFNA4-IFNAR2\n",
      "IFNA1\n",
      "IFNA1-IFNAR1\n",
      "IFNA1-IFNAR2\n",
      "IFNA5\n",
      "IFNA5-IFNAR1\n",
      "IFNA5-IFNAR2\n",
      "IFNA16\n",
      "IFNA16-IFNAR1\n",
      "IFNA16-IFNAR2\n",
      "IFNA8\n",
      "IFNA8-IFNAR1\n",
      "IFNA8-IFNAR2\n",
      "IFNA14\n",
      "IFNA14-IFNAR1\n",
      "IFNA14-IFNAR2\n",
      "IFNA21\n",
      "IFNA21-IFNAR1\n",
      "IFNA21-IFNAR2\n",
      "IFNA2\n",
      "IFNA2-IFNAR1\n",
      "IFNA2-IFNAR2\n",
      "IFNA13\n",
      "IFNA13-IFNAR1\n",
      "IFNA13-IFNAR2\n",
      "IFNA6\n",
      "IFNA6-IFNAR1\n",
      "IFNA6-IFNAR2\n",
      "IFNA7\n",
      "IFNA7-IFNAR1\n",
      "IFNA7-IFNAR2\n",
      "IFNA10\n",
      "IFNA10-IFNAR1\n",
      "IFNA10-IFNAR2\n",
      "IFNA17\n",
      "IFNA17-IFNAR1\n",
      "IFNA17-IFNAR2\n",
      "IFNW1\n",
      "IFNW1-IFNAR1\n",
      "IFNW1-IFNAR2\n",
      "IFNB1\n",
      "IFNB1-IFNAR1\n",
      "IFNB1-IFNAR2\n",
      "IL1A\n",
      "IL1R1\n",
      "IL1A-IL1R1\n",
      "IL1R2\n",
      "IL1A-IL1R2\n",
      "IL1B\n",
      "IL1B-IL1R1\n",
      "IL1B-IL1R2\n",
      "IL1RN\n",
      "IL1RN-IL1R1\n",
      "IL1RN-IL1R2\n",
      "IL18\n",
      "IL18R1\n",
      "IL18-IL18R1\n",
      "IL18RAP\n",
      "IL18-IL18RAP\n",
      "IGF2R\n",
      "IGF2-IGF2R\n",
      "MST1\n",
      "MST1R\n",
      "MST1-MST1R\n",
      "FGF3-FGFR1\n",
      "FGF4-FGFR1\n",
      "FGF4-FGFR2\n",
      "FGF4-FGFR4\n",
      "FGF6-FGFR1\n",
      "FGF6-FGFR4\n",
      "FGF8-FGFR4\n",
      "FGF9-FGFR1\n",
      "FGF9-FGFR4\n",
      "FGF10-FGFR1\n",
      "FGF10-FGFR3\n",
      "FGF10-FGFR4\n",
      "FGF11\n",
      "FGF11-FGFR1\n",
      "FGF11-FGFR2\n",
      "FGF11-FGFR3\n",
      "FGF11-FGFR4\n",
      "FGF12\n",
      "FGF12-FGFR1\n",
      "FGF12-FGFR2\n",
      "FGF12-FGFR3\n",
      "FGF12-FGFR4\n",
      "FGF12B\n",
      "FGF12B-FGFR1\n",
      "FGF12B-FGFR2\n",
      "FGF12B-FGFR3\n",
      "FGF12B-FGFR4\n",
      "FGF13\n",
      "FGF13-FGFR1\n",
      "FGF13-FGFR2\n",
      "FGF13-FGFR3\n",
      "FGF13-FGFR4\n",
      "FGF14\n",
      "FGF14-FGFR1\n",
      "FGF14-FGFR2\n",
      "FGF14-FGFR3\n",
      "FGF14-FGFR4\n",
      "FGF16\n",
      "FGF16-FGFR1\n",
      "FGF16-FGFR2\n",
      "FGF16-FGFR3\n",
      "FGF16-FGFR4\n",
      "FGF17\n",
      "FGF17-FGFR1\n",
      "FGF17-FGFR2\n",
      "FGF17-FGFR3\n",
      "FGF17-FGFR4\n",
      "FGF18\n",
      "FGF18-FGFR1\n",
      "FGF18-FGFR2\n",
      "FGF18-FGFR3\n",
      "FGF18-FGFR4\n",
      "FGF19-FGFR2\n",
      "FGF19-FGFR3\n",
      "NGFB\n",
      "NGFB-NTRK1\n",
      "NGFR\n",
      "NGFB-NGFR\n",
      "BDNF-NGFR\n",
      "NTF3-NGFR\n",
      "NTF5\n",
      "NTF5-NTRK1\n",
      "NTF5-NTRK2\n",
      "NTF5-NTRK3\n",
      "NTF5-NGFR\n",
      "THPO\n",
      "MPL\n",
      "THPO-MPL\n",
      "ANGPT1\n",
      "TEK\n",
      "ANGPT1-TEK\n",
      "ANGPT2\n",
      "ANGPT2-TEK\n",
      "ANGPTL1\n",
      "ANGPTL1-TEK\n",
      "PDGFRA\n",
      "PDGFA-PDGFRA\n",
      "PDGFB-PDGFRA\n",
      "PDGFRB\n",
      "PDGFB-PDGFRB\n",
      "VEGF\n",
      "FLT1\n",
      "VEGF-FLT1\n",
      "KDR\n",
      "VEGF-KDR\n",
      "VEGF-NRP1\n",
      "VEGF-NRP2\n",
      "VEGFB-FLT1\n",
      "VEGFC-KDR\n",
      "FLT4\n",
      "VEGFC-FLT4\n",
      "FIGF\n",
      "FIGF-KDR\n",
      "FIGF-FLT4\n",
      "PGF\n",
      "PGF-FLT1\n",
      "PGF-NRP1\n",
      "ERBB2\n",
      "NRG1-ERBB2\n",
      "DTR\n",
      "DTR-EGFR\n",
      "DTR-ERBB4\n",
      "IL11\n",
      "IL11RA\n",
      "IL11-IL11RA\n",
      "IL6ST\n",
      "IL11-IL6ST\n",
      "IL6R\n",
      "IL6-IL6R\n",
      "IL6-IL6ST\n",
      "LIF\n",
      "LIFR\n",
      "LIF-LIFR\n",
      "LIF-IL6ST\n",
      "CTF1\n",
      "CTF1-IL6ST\n",
      "CTF1-LIFR\n",
      "CNTF\n",
      "CNTFR\n",
      "CNTF-CNTFR\n",
      "CNTF-IL6ST\n",
      "CNTF-LIFR\n",
      "OSM\n",
      "OSMR\n",
      "OSM-OSMR\n",
      "OSM-IL6ST\n",
      "OSM-LIFR\n",
      "SCGF\n",
      "SCGF-KIT\n",
      "FLT3LG\n",
      "FLT3LG-FLT3\n",
      "MDK\n",
      "PTPRZ1\n",
      "MDK-PTPRZ1\n",
      "PTPRB\n",
      "MDK-PTPRB\n",
      "PTN-PTPRZ1\n",
      "PTN-PTPRB\n",
      "KIAA0468\n",
      "PTN-KIAA0468\n",
      "TGFBR1\n",
      "TGFB1-TGFBR1\n",
      "TGFBR2\n",
      "TGFB1-TGFBR2\n",
      "TGFBR3\n",
      "TGFB1-TGFBR3\n",
      "TGFB2-TGFBR1\n",
      "TGFB2-TGFBR2\n",
      "TGFB2-TGFBR3\n",
      "TGFB3-TGFBR1\n",
      "TGFB3-TGFBR2\n",
      "TGFB3-TGFBR3\n",
      "BMP2\n",
      "BMPR1A\n",
      "BMP2-BMPR1A\n",
      "BMPR1B\n",
      "BMP2-BMPR1B\n",
      "BMPR2\n",
      "BMP2-BMPR2\n",
      "ACVR1\n",
      "BMP2-ACVR1\n",
      "ACVR2\n",
      "BMP2-ACVR2\n",
      "ACVR2B\n",
      "BMP2-ACVR2B\n",
      "BMP3\n",
      "BMP3-BMPR1A\n",
      "BMP3-BMPR1B\n",
      "BMP3-BMPR2\n",
      "BMP3-ACVR1\n",
      "BMP3-ACVR2\n",
      "BMP3-ACVR2B\n",
      "BMP4\n",
      "BMP4-BMPR1A\n",
      "BMP4-BMPR1B\n",
      "BMP4-BMPR2\n",
      "BMP4-ACVR1\n",
      "BMP4-ACVR2\n",
      "BMP4-ACVR2B\n",
      "BMP5\n",
      "BMP5-BMPR1A\n",
      "BMP5-BMPR1B\n",
      "BMP5-BMPR2\n",
      "BMP5-ACVR1\n",
      "BMP5-ACVR2\n",
      "BMP5-ACVR2B\n",
      "BMP6\n",
      "BMP6-BMPR1A\n",
      "BMP6-BMPR1B\n",
      "BMP6-BMPR2\n",
      "BMP6-ACVR1\n",
      "BMP6-ACVR2\n",
      "BMP6-ACVR2B\n",
      "BMP7\n",
      "BMP7-BMPR1A\n",
      "BMP7-BMPR1B\n",
      "BMP7-BMPR2\n",
      "BMP7-ACVR1\n",
      "BMP7-ACVR2\n",
      "BMP7-ACVR2B\n",
      "BMP8\n",
      "BMP8-BMPR1A\n",
      "BMP8-BMPR1B\n",
      "BMP8-BMPR2\n",
      "BMP8-ACVR1\n",
      "BMP8-ACVR2\n",
      "BMP8-ACVR2B\n",
      "BMP10\n",
      "BMP10-BMPR1A\n",
      "BMP10-BMPR1B\n",
      "BMP10-BMPR2\n",
      "BMP10-ACVR1\n",
      "BMP10-ACVR2\n",
      "BMP10-ACVR2B\n",
      "BMP15\n",
      "BMP15-BMPR1A\n",
      "BMP15-BMPR1B\n",
      "BMP15-BMPR2\n",
      "BMP15-ACVR1\n",
      "BMP15-ACVR2\n",
      "BMP15-ACVR2B\n",
      "INHBA\n",
      "INHBA-ACVR1\n",
      "ACVR1B\n",
      "INHBA-ACVR1B\n",
      "INHBA-ACVR2\n",
      "INHBA-ACVR2B\n",
      "INHBB\n",
      "INHBB-ACVR1\n",
      "INHBB-ACVR1B\n",
      "INHBB-ACVR2\n",
      "INHBB-ACVR2B\n",
      "INHBC-ACVR1\n",
      "INHBC-ACVR1B\n",
      "INHBC-ACVR2\n",
      "INHBC-ACVR2B\n",
      "INHA\n",
      "INHA-ACVR1\n",
      "INHA-ACVR1B\n",
      "INHA-ACVR2\n",
      "INHA-ACVR2B\n",
      "AMH\n",
      "AMHR2\n",
      "AMH-AMHR2\n",
      "CX3CL1\n",
      "CX3CR1\n",
      "CX3CL1-CX3CR1\n",
      "CCL11-CXCR3\n",
      "CCL11-CCR5\n",
      "CCBP2\n",
      "CCL14-CCBP2\n",
      "CCL4-CCR8\n",
      "CCL4-CCR1\n",
      "CCL4-CCBP2\n",
      "GPR9\n",
      "CCL21-GPR9\n",
      "CCL5-CCBP2\n",
      "CCL2-CCR1\n",
      "CCL2-CCBP2\n",
      "CCL8-CCBP2\n",
      "CCL7-CCBP2\n",
      "CCL13-CCR5\n",
      "CCL13-CCBP2\n",
      "CCL17-CCR8\n",
      "CXCL8\n",
      "CXCL8-CXCR1\n",
      "CXCL8-CXCR2\n",
      "CXCL1\n",
      "CXCL1-CXCR2\n"
     ]
    }
   ],
   "source": [
    "##1.\n",
    "#Recepter-Ligand\n",
    "\n",
    "RLDF1=open('./SourceData/Receptor-Ligand/DLRP.All_LigandRecepter_Interaction.txt').readlines()\n",
    "RLDF2=pd.read_table('./SourceData/Receptor-Ligand/interactions_cellphonedb.csv',sep=',',index_col=0)[['entry_name_a','entry_name_b']].dropna(axis=0,how='any')             \n",
    "\n",
    "\n",
    "A=[i.split('_')[0] for i in RLDF2['entry_name_a']]\n",
    "B=[i.split('_')[0] for i in RLDF2['entry_name_b']]\n",
    "RLList=list(set(A+B))\n",
    "RL=[A[i]+'-'+B[i] for i in range(len(A))]\n",
    "\n",
    "l=1\n",
    "for line in RLDF1:\n",
    "    if line[0]=='#':continue\n",
    "    if line=='\\n':\n",
    "        l=1\n",
    "        continue\n",
    "    if l:\n",
    "        Gene1=line.split('\\t')[1]\n",
    "        if Gene1 not in RLList:\n",
    "            print Gene1\n",
    "            RLList.append(Gene1)\n",
    "        l=0\n",
    "    else:\n",
    "        Gene2=line.split('\\t')[1]\n",
    "        if Gene2 not in RLList:\n",
    "            RLList.append(Gene2)\n",
    "            print Gene2\n",
    "        if (Gene1+'-'+Gene2 not in RL) and (Gene2+'-'+Gene1 not in RL): \n",
    "            RL.append(Gene1+'-'+Gene2)\n",
    "            print Gene1+'-'+Gene2\n",
    "            \n",
    "            "
   ]
  },
  {
   "cell_type": "markdown",
   "metadata": {},
   "source": [
    "# Homer annotation Peaks"
   ]
  },
  {
   "cell_type": "code",
   "execution_count": 87,
   "metadata": {
    "collapsed": true
   },
   "outputs": [],
   "source": [
    "#Peak to Genes\n",
    "AnoDF=pd.DataFrame(ReadTable('./OutPut/AllSamples_NormSScCommon/NormSScPeaks.bed.ano.txt')['Gene Name'])\n",
    "RLList_st=[]\n",
    "Count_df=[]\n",
    "\n",
    "for i in RLList:\n",
    "    if i in list(AnoDF['Gene Name']):\n",
    "        RLList_st.append(i)\n",
    "        Count_df.append(list(CountDF.loc[list(AnoDF[AnoDF['Gene Name']==i].index)].apply(sum,axis=0)))\n",
    "Count_df=pd.DataFrame(Count_df,index=RLList_st,columns=list(CountDF))        \n",
    "                \n"
   ]
  },
  {
   "cell_type": "code",
   "execution_count": 88,
   "metadata": {
    "collapsed": true
   },
   "outputs": [],
   "source": [
    "##3\n",
    "#Arm-Norm FoldChange\n",
    "def FoldChange(RL_df):\n",
    "    CellType=['CD4','CD8','DC','Fib']\n",
    "    FDC_df=pd.DataFrame({},index=RL_df.index)\n",
    "    Header=list(RL_df)\n",
    "    for ct in CellType:\n",
    "        Norm=[i for i in Header if (ct in i) and ('Norm' in i)]\n",
    "        Arm=[i for i in Header if (ct in i) and ('Arm' in i)]\n",
    "        MNorm=RL_df[Norm].apply(np.mean,axis=1)\n",
    "        MArm=RL_df[Arm].apply(np.mean,axis=1)\n",
    "        L=[]\n",
    "        for i in range(len(MArm)):\n",
    "#             if max(MArm[i],MNorm[i])<tho:\n",
    "#                 L.append(0)\n",
    "#             else:\n",
    "            L.append(MArm[i]-MNorm[i])\n",
    "        FDC_df[ct]=L\n",
    "    return FDC_df\n",
    "#Remove genes with low signal\n",
    "Count_DF=Count_df[Count_df.apply(max,axis=1)>10]\n",
    "FDC_df=FoldChange(Count_DF)\n",
    "FDC_df_Final=FDC_df[FDC_df.apply(max,axis=1)>0]\n",
    "FDC_df_NormH=(-FDC_df)[(-FDC_df).apply(max,axis=1)>0]\n",
    "\n"
   ]
  },
  {
   "cell_type": "code",
   "execution_count": 89,
   "metadata": {},
   "outputs": [
    {
     "data": {
      "text/plain": [
       "False"
      ]
     },
     "execution_count": 89,
     "metadata": {},
     "output_type": "execute_result"
    }
   ],
   "source": [
    "'CCR7' in FDC_df_NormH.index"
   ]
  },
  {
   "cell_type": "code",
   "execution_count": 90,
   "metadata": {},
   "outputs": [],
   "source": [
    "FDC_df_NormH.loc['CCR7']=[0,0,0,0]\n",
    "outDir=os.path.join(outDir,'Max.10')\n",
    "Mkdir(outDir)\n"
   ]
  },
  {
   "cell_type": "code",
   "execution_count": 91,
   "metadata": {
    "collapsed": true
   },
   "outputs": [],
   "source": [
    "##4\n",
    "#Find Recepter-Ligand interaction\n",
    "def FindRLpair(RL):\n",
    "    RLState=[]  \n",
    "    S=list(FDC_df_Final.index)\n",
    "    for rl in RL:\n",
    "        P=rl.split('-')\n",
    "        if (P[0] in S) and (P[1] in S):\n",
    "            RLState.append(rl)\n",
    "    return RLState\n",
    "RLStay=FindRLpair(RL)\n"
   ]
  },
  {
   "cell_type": "code",
   "execution_count": 92,
   "metadata": {},
   "outputs": [
    {
     "data": {
      "text/plain": [
       "263"
      ]
     },
     "execution_count": 92,
     "metadata": {},
     "output_type": "execute_result"
    }
   ],
   "source": [
    "len(RLStay)"
   ]
  },
  {
   "cell_type": "code",
   "execution_count": 93,
   "metadata": {
    "collapsed": true
   },
   "outputs": [],
   "source": [
    "##5\n",
    "#Get the interraction score\n",
    "def Muxp(a,b):\n",
    "    if (a<0) and (b<0):\n",
    "        return min([a,b])\n",
    "    elif max(a,b)<1:\n",
    "        return 0\n",
    "    else:\n",
    "        return a+b\n",
    "\n"
   ]
  },
  {
   "cell_type": "code",
   "execution_count": 94,
   "metadata": {
    "collapsed": true
   },
   "outputs": [],
   "source": [
    "##6\n",
    "##Display the Recepter-Ligand（CD4-CD8,CD4-DC,CD4-Fib,CD8-DC,CD8-Fib,DC-Fib）\n",
    "def GetRLCellTypepair(FDC_df_Final,x):\n",
    "    RLCellTypes_df=pd.DataFrame({})\n",
    "    RLCellTypesCount_df=pd.DataFrame({})\n",
    "    \n",
    "    CellType=['CD4','CD8','DC','Fib']\n",
    "    J=[]\n",
    "    for i1 in range(len(CellType)-1):\n",
    "        for i2 in range(i1+1,len(CellType)):\n",
    "            ct1=CellType[i1]\n",
    "            ct2=CellType[i2]\n",
    "            CT1=FDC_df_Final[ct1]\n",
    "            CT2=FDC_df_Final[ct2]\n",
    "            S=[]\n",
    "            C=[]\n",
    "            RLFinal=[]\n",
    "            for rl in RLStay:\n",
    "                try:\n",
    "                    rl1,rl2=rl.split('-')\n",
    "                    count=max(Muxp(CT1[rl2],CT2[rl1]),Muxp(CT1[rl1],CT2[rl2]))\n",
    "                    J.append(count)\n",
    "                    if count>x:\n",
    "                        S.append(1)\n",
    "                        C.append(count)\n",
    "                    else:\n",
    "                        S.append(0)\n",
    "                        C.append(0)\n",
    "                    RLFinal.append(rl)\n",
    "                except KeyError:\n",
    "                    continue\n",
    "            RLCellTypes_df[ct1+'-'+ct2]=S\n",
    "            RLCellTypesCount_df[ct1+'-'+ct2]=C\n",
    "    RLCellTypes_df.index=RLFinal\n",
    "    RLCellTypesCount_df.index=RLFinal\n",
    "    RLCellTypes_df=RLCellTypes_df[RLCellTypes_df.apply(sum,axis=1)>1]\n",
    "    RLCellTypesCount_df=RLCellTypesCount_df.loc[RLCellTypes_df.index]\n",
    "    return RLCellTypes_df,RLCellTypesCount_df\n",
    "RLCellTypes_df,RLCellTypesCount_df=GetRLCellTypepair(FDC_df_Final,7)     #more than 7\n",
    "\n",
    "Norm_RLCellTypes_df,Norm_RLCellTypesCount_df=GetRLCellTypepair(FDC_df_NormH,7)  \n"
   ]
  },
  {
   "cell_type": "code",
   "execution_count": 95,
   "metadata": {
    "collapsed": true
   },
   "outputs": [],
   "source": [
    "myCmap=sns.light_palette(\"#CA4641\",as_cmap=True)\n"
   ]
  },
  {
   "cell_type": "code",
   "execution_count": 97,
   "metadata": {
    "collapsed": true
   },
   "outputs": [],
   "source": [
    "AllRL=list(set(list(RLCellTypesCount_df.index)+list(Norm_RLCellTypesCount_df.index)))\n",
    "\n",
    "def Muxp2(a,b):\n",
    "    if a*b<0:\n",
    "        return 0\n",
    "    elif max(abs(a),abs(b))<1:\n",
    "        return 0\n",
    "    else:\n",
    "        return a+b\n",
    "\n",
    "\n",
    "def GetRLCellTypepair2(FDC_df_Final,x):\n",
    "    RLCellTypes_df=pd.DataFrame({})\n",
    "    RLCellTypesCount_df=pd.DataFrame({})\n",
    "    \n",
    "    CellType=['CD4','CD8','DC','Fib']\n",
    "   \n",
    "    \n",
    "    for i1 in range(len(CellType)-1):\n",
    "        for i2 in range(i1+1,len(CellType)):\n",
    "            ct1=CellType[i1]\n",
    "            ct2=CellType[i2]\n",
    "            CT1=FDC_df_Final[ct1]\n",
    "            CT2=FDC_df_Final[ct2]\n",
    "            S=[]\n",
    "            C=[]\n",
    "            RLFinal=[]\n",
    "            for rl in AllRL:\n",
    "                try:\n",
    "                    rl1,rl2=rl.split('-')\n",
    "                    A=Muxp2(CT1[rl2],CT2[rl1])\n",
    "                    B=Muxp2(CT1[rl1],CT2[rl2])\n",
    "                    if abs(A)>abs(B):\n",
    "                        count=A\n",
    "                    elif abs(B)>abs(A):\n",
    "                        count=B\n",
    "                    else:\n",
    "                        count=0\n",
    "                    if count>x:\n",
    "                        S.append(1)\n",
    "                        C.append(count)\n",
    "                    elif count<-x:\n",
    "                        S.append(-1)\n",
    "                        C.append(count)                           \n",
    "                    else:\n",
    "                        S.append(0)\n",
    "                        C.append(0)\n",
    "                    RLFinal.append(rl)\n",
    "                except KeyError:\n",
    "                    continue\n",
    "            RLCellTypes_df[ct1+'-'+ct2]=S\n",
    "            RLCellTypesCount_df[ct1+'-'+ct2]=C\n",
    "    RLCellTypes_df.index=RLFinal\n",
    "    RLCellTypesCount_df.index=RLFinal\n",
    "    RLCellTypes_df=RLCellTypes_df[abs(RLCellTypes_df).apply(sum,axis=1)>1]\n",
    "    RLCellTypesCount_df=RLCellTypesCount_df.loc[RLCellTypes_df.index]\n",
    "    return RLCellTypes_df,RLCellTypesCount_df    \n",
    "\n",
    "AllRLCellTypes_df,AllRLCellTypesCount_df = GetRLCellTypepair2(FDC_df_Final,7)\n",
    "\n"
   ]
  },
  {
   "cell_type": "code",
   "execution_count": 98,
   "metadata": {
    "collapsed": true
   },
   "outputs": [],
   "source": [
    "SSCup_RowSum=AllRLCellTypes_df[AllRLCellTypes_df>0].fillna(0).apply(sum,axis=1)\n",
    "Normup_RowSum=AllRLCellTypes_df[AllRLCellTypes_df<0].fillna(0).apply(sum,axis=1)\n",
    "\n",
    "AllRLCellTypesCount_df=AllRLCellTypesCount_df[['CD8-Fib','CD8-DC','CD4-CD8','CD4-Fib','DC-Fib','CD4-DC']]\n",
    "RLOrder=list(AllRLCellTypes_df.apply(sum,axis=1).sort_values().index)\n",
    "AllRLCellTypesCount_df=AllRLCellTypesCount_df.loc[RLOrder]\n",
    "\n",
    "\n",
    "SSCup_ColSum=AllRLCellTypes_df[AllRLCellTypes_df>0].fillna(0).apply(sum,axis=0)[['CD8-Fib','CD8-DC','CD4-CD8','CD4-Fib','DC-Fib','CD4-DC']]\n",
    "Normup_ColSum=abs(AllRLCellTypes_df[AllRLCellTypes_df<0].fillna(0).apply(sum,axis=0)[['CD8-Fib','CD8-DC','CD4-CD8','CD4-Fib','DC-Fib','CD4-DC']]) \n",
    "\n"
   ]
  },
  {
   "cell_type": "code",
   "execution_count": 99,
   "metadata": {},
   "outputs": [
    {
     "data": {
      "text/plain": [
       "CD8-Fib    42.0\n",
       "CD8-DC     25.0\n",
       "CD4-CD8    20.0\n",
       "CD4-Fib    12.0\n",
       "DC-Fib      9.0\n",
       "CD4-DC      0.0\n",
       "dtype: float64"
      ]
     },
     "execution_count": 99,
     "metadata": {},
     "output_type": "execute_result"
    }
   ],
   "source": [
    "Normup_ColSum"
   ]
  },
  {
   "cell_type": "code",
   "execution_count": 100,
   "metadata": {
    "scrolled": false
   },
   "outputs": [
    {
     "data": {
      "image/png": "[encoded data removed]",
      "text/plain": [
       "<matplotlib.figure.Figure at 0x11c4286d0>"
      ]
     },
     "metadata": {},
     "output_type": "display_data"
    },
    {
     "data": {
      "image/png": "[encoded data removed]",
      "text/plain": [
       "<matplotlib.figure.Figure at 0x119d2bad0>"
      ]
     },
     "metadata": {},
     "output_type": "display_data"
    },
    {
     "data": {
      "image/png": "[encoded data removed]",
      "text/plain": [
       "<matplotlib.figure.Figure at 0x11c160610>"
      ]
     },
     "metadata": {},
     "output_type": "display_data"
    },
    {
     "data": {
      "image/png": "[encoded data removed]",
      "text/plain": [
       "<matplotlib.figure.Figure at 0x11c3fd0d0>"
      ]
     },
     "metadata": {},
     "output_type": "display_data"
    },
    {
     "data": {
      "image/png": "[encoded data removed]",
      "text/plain": [
       "<matplotlib.figure.Figure at 0x11c56e2d0>"
      ]
     },
     "metadata": {},
     "output_type": "display_data"
    }
   ],
   "source": [
    "\n",
    "#Save All Recepter\n",
    "fig1=sns.clustermap(AllRLCellTypesCount_df,figsize=(4,17),cmap='RdBu_r',row_cluster=False,col_cluster=False,vmin=-10,vmax=10,yticklabels=AllRLCellTypesCount_df.index,linewidths=0.1,linecolor='w')\n",
    "plt.setp(fig1.ax_heatmap.get_yticklabels(), rotation=0,fontsize=10)\n",
    "plt.setp(fig1.ax_heatmap.get_xticklabels(), rotation=90,fontsize=20)\n",
    "fig1.savefig(os.path.join(outDir,'AllUp_RLCellTypes_df.Cluster.Count.pdf'))\n",
    "plt.show()\n",
    "Save(AllRLCellTypes_df,os.path.join(outDir,'AllUp_RLCellTypes_df.Cluster.Count.txt'))\n",
    "\n",
    "\n",
    "#RLOrder=[AllRLCellTypesCount_df.index[i] for i in fig1.dendrogram_row.reordered_ind]\n",
    "SSc_RowSumOrder=SSCup_RowSum.loc[RLOrder]\n",
    "Norm_RowSumOrder=Normup_RowSum.loc[RLOrder]\n",
    "\n",
    "fig2=sns.clustermap(SSc_RowSumOrder,figsize=(0.8,17),cmap='RdBu_r',vmin=-6,vmax=6,yticklabels=SSc_RowSumOrder.index,row_cluster=False,col_cluster=False)\n",
    "plt.setp(fig2.ax_heatmap.get_yticklabels(), rotation=0,fontsize=10)\n",
    "plt.setp(fig2.ax_heatmap.get_xticklabels(), rotation=90,fontsize=20)\n",
    "plt.show()\n",
    "fig2.savefig(os.path.join(outDir,'AllUp.SSc_RLCellTypes_df.sorted_byCount.sumRow.pdf'))\n",
    "\n",
    "\n",
    "fig3=sns.clustermap(Norm_RowSumOrder,figsize=(0.8,17),cmap='RdBu_r',vmin=-6,vmax=6,yticklabels=Norm_RowSumOrder.index,row_cluster=False,col_cluster=False)\n",
    "plt.setp(fig3.ax_heatmap.get_yticklabels(), rotation=0,fontsize=10)\n",
    "plt.setp(fig3.ax_heatmap.get_xticklabels(), rotation=90,fontsize=20)\n",
    "plt.show()\n",
    "fig3.savefig(os.path.join(outDir,'AllUp.Norm_RLCellTypes_df.sorted_byCount.sumRow.pdf'))\n",
    "\n",
    "\n",
    "\n",
    "fig2=sns.clustermap(SSCup_ColSum,figsize=(0.8,5),cmap='bone_r',vmin=0,vmax=50,row_cluster=False,col_cluster=False)\n",
    "plt.setp(fig3.ax_heatmap.get_yticklabels(), rotation=0,fontsize=10)\n",
    "plt.setp(fig3.ax_heatmap.get_xticklabels(), rotation=90,fontsize=20)\n",
    "plt.show()\n",
    "fig2.savefig(os.path.join(outDir,'AllUp.SSc_RLCellTypes_df.sorted_byCount.sumCol.pdf'))\n",
    "\n",
    "\n",
    "fig3=sns.clustermap(Normup_ColSum,figsize=(0.8,5),cmap='bone_r',vmin=0,vmax=50,row_cluster=False,col_cluster=False)\n",
    "plt.setp(fig3.ax_heatmap.get_yticklabels(), rotation=0,fontsize=10)\n",
    "plt.setp(fig3.ax_heatmap.get_xticklabels(), rotation=90,fontsize=20)\n",
    "plt.show()\n",
    "fig3.savefig(os.path.join(outDir,'AllUp.Norm_RLCellTypes_df.sorted_byCount.sumCol.pdf'))\n",
    "\n",
    "\n",
    "\n"
   ]
  },
  {
   "cell_type": "code",
   "execution_count": 106,
   "metadata": {},
   "outputs": [
    {
     "data": {
      "text/plain": [
       "CD8-Fib     4.0\n",
       "CD8-DC     22.0\n",
       "CD4-CD8    17.0\n",
       "CD4-Fib    16.0\n",
       "DC-Fib     22.0\n",
       "CD4-DC     53.0\n",
       "dtype: float64"
      ]
     },
     "execution_count": 106,
     "metadata": {},
     "output_type": "execute_result"
    }
   ],
   "source": [
    "SSCup_ColSum"
   ]
  },
  {
   "cell_type": "markdown",
   "metadata": {},
   "source": [
    "# Interaction Network"
   ]
  },
  {
   "cell_type": "markdown",
   "metadata": {},
   "source": [
    "\n",
    "####up regulated（+，+），SSc down regulated（-，-）\n"
   ]
  },
  {
   "cell_type": "code",
   "execution_count": 103,
   "metadata": {
    "collapsed": true
   },
   "outputs": [],
   "source": [
    "\n",
    "\n",
    "def FindRecepterLigand(FDC_df_Final,AllRL,Celltype,outDir,The=7,Thes=1):\n",
    "    Dir=os.path.join(outDir,'Circus_plot_NormSSc')\n",
    "    Mkdir(Dir)\n",
    "    AllIndex=AllRL+[i.split('-')[1]+'-'+i.split('-')[0] for i in AllRL]\n",
    "    AllCelltype=[Celltype]+[i for i in list(FDC_df_Final) if i!=Celltype]\n",
    "    NetWorkDF=pd.DataFrame({},index=AllIndex,columns=AllCelltype)\n",
    "    A=[i.split('-')[0] for i in AllIndex]\n",
    "    B=[i.split('-')[1] for i in AllIndex]\n",
    "    NetWorkDF[Celltype]=list(FDC_df_Final.loc[A][Celltype])\n",
    "    for c in AllCelltype[1:]:\n",
    "        NetWorkDF[c]=list(FDC_df_Final.loc[B][c])\n",
    "    def FindFromTo(rl):\n",
    "        r,l=rl.split('-')\n",
    "        L=NetWorkDF.loc[rl]\n",
    "        a=L[0]\n",
    "        if abs(a)<Thes:\n",
    "            return [0,0,0,0]\n",
    "        elif a<0:\n",
    "            O=[]\n",
    "            for i in L[1:]:\n",
    "                if i>-Thes:\n",
    "                    O.append(0)\n",
    "                elif a+i<-The:\n",
    "                    O.append('-'+l)\n",
    "                else:\n",
    "                    O.append(0)\n",
    "            if O==[0,0,0]:\n",
    "                return [0]+O\n",
    "            else:\n",
    "                return ['-'+r]+O\n",
    "        elif a>0:\n",
    "            O=[]\n",
    "            for i in L[1:]:\n",
    "                if i<Thes:\n",
    "                    O.append(0)\n",
    "                elif a+i>The:\n",
    "                    O.append('+'+l)\n",
    "                else:\n",
    "                    O.append(0)\n",
    "            if O==[0,0,0]:\n",
    "                return [0]+O\n",
    "            else:\n",
    "                return ['+'+r]+O  \n",
    "    for rl in AllIndex:\n",
    "        L=FindFromTo(rl)\n",
    "        if L!=[0,0,0,0]:\n",
    "            NetWorkDF.loc[rl]=L\n",
    "        else:\n",
    "            NetWorkDF=NetWorkDF.drop([rl],axis=0)\n",
    "    SaveTable(NetWorkDF,os.path.join(Dir,Celltype+'_Network.txt'))\n",
    "    return NetWorkDF,os.path.join(Dir,Celltype+'_Network.txt')\n",
    "            \n",
    "    "
   ]
  },
  {
   "cell_type": "code",
   "execution_count": 104,
   "metadata": {
    "collapsed": true
   },
   "outputs": [],
   "source": [
    "\n",
    "AllRL=list(AllRLCellTypesCount_df.index)\n",
    "DC_NetWorkDF,DC_NetWorkFile=FindRecepterLigand(FDC_df_Final,AllRL,'DC',outDir,The=7,Thes=1)\n",
    "CD4_NetWorkDF,CD4_NetWorkFile=FindRecepterLigand(FDC_df_Final,AllRL,'CD4',outDir,The=7,Thes=1)\n",
    "CD8_NetWorkDF,CD8_NetWorkFile=FindRecepterLigand(FDC_df_Final,AllRL,'CD8',outDir,The=7,Thes=1)\n",
    "Fib_NetWorkDF,Fib_NetWorkFile=FindRecepterLigand(FDC_df_Final,AllRL,'Fib',outDir,The=7,Thes=1)\n",
    "\n"
   ]
  },
  {
   "cell_type": "code",
   "execution_count": 44,
   "metadata": {},
   "outputs": [
    {
     "name": "stdout",
     "output_type": "stream",
     "text": [
      "/Users/liuqian/Documents/A_SSC_project/NetWork2/Max.10/Circus_plot_NormSSc/DC_Network.txt\n",
      "/Users/liuqian/Documents/A_SSC_project/NetWork2/Max.10/Circus_plot_NormSSc/CD4_Network.txt\n",
      "/Users/liuqian/Documents/A_SSC_project/NetWork2/Max.10/Circus_plot_NormSSc/CD8_Network.txt\n",
      "/Users/liuqian/Documents/A_SSC_project/NetWork2/Max.10/Circus_plot_NormSSc/Fib_Network.txt\n"
     ]
    }
   ],
   "source": [
    "#Draw CircusPlot\n",
    "for File in [DC_NetWorkFile,CD4_NetWorkFile,CD8_NetWorkFile,Fib_NetWorkFile]:\n",
    "    print File\n",
    "    os.system('/usr/local/bin/Rscript ./Code/SSC_CircusPlot_ForOneCelltype.NormSSc.R {}'.format(File))\n",
    "\n"
   ]
  },
  {
   "cell_type": "code",
   "execution_count": 105,
   "metadata": {},
   "outputs": [
    {
     "name": "stdout",
     "output_type": "stream",
     "text": [
      "/Users/liuqian/Documents/A_SSC_project/NetWork2/Max.10/Circus_plot_NormSSc/DC_Network.txt\n",
      "/Users/liuqian/Documents/A_SSC_project/NetWork2/Max.10/Circus_plot_NormSSc/CD4_Network.txt\n",
      "/Users/liuqian/Documents/A_SSC_project/NetWork2/Max.10/Circus_plot_NormSSc/CD8_Network.txt\n",
      "/Users/liuqian/Documents/A_SSC_project/NetWork2/Max.10/Circus_plot_NormSSc/Fib_Network.txt\n"
     ]
    }
   ],
   "source": [
    "##Replace -/+ to down/up\n",
    "def Replace(File):\n",
    "    FileDF=ReadTable(File)\n",
    "    for H in list(FileDF):\n",
    "        FileDF[H]=[i.replace('-','Down_').replace('+','Up_') for i in list(FileDF[H])]\n",
    "    SaveTable(FileDF,File+'Replace.txt')\n",
    "    \n",
    "for File in [DC_NetWorkFile,CD4_NetWorkFile,CD8_NetWorkFile,Fib_NetWorkFile]:\n",
    "    print File\n",
    "    Replace(File)\n",
    "\n",
    "\n",
    "\n",
    "\n",
    "\n"
   ]
  },
  {
   "cell_type": "code",
   "execution_count": null,
   "metadata": {
    "collapsed": true
   },
   "outputs": [],
   "source": []
  },
  {
   "cell_type": "code",
   "execution_count": null,
   "metadata": {
    "collapsed": true
   },
   "outputs": [],
   "source": []
  },
  {
   "cell_type": "code",
   "execution_count": null,
   "metadata": {
    "collapsed": true
   },
   "outputs": [],
   "source": []
  },
  {
   "cell_type": "code",
   "execution_count": null,
   "metadata": {
    "collapsed": true
   },
   "outputs": [],
   "source": []
  },
  {
   "cell_type": "code",
   "execution_count": null,
   "metadata": {
    "collapsed": true
   },
   "outputs": [],
   "source": []
  },
  {
   "cell_type": "code",
   "execution_count": null,
   "metadata": {
    "collapsed": true
   },
   "outputs": [],
   "source": []
  },
  {
   "cell_type": "code",
   "execution_count": null,
   "metadata": {
    "collapsed": true
   },
   "outputs": [],
   "source": []
  },
  {
   "cell_type": "code",
   "execution_count": null,
   "metadata": {
    "collapsed": true
   },
   "outputs": [],
   "source": []
  },
  {
   "cell_type": "code",
   "execution_count": null,
   "metadata": {
    "collapsed": true
   },
   "outputs": [],
   "source": []
  },
  {
   "cell_type": "code",
   "execution_count": null,
   "metadata": {
    "collapsed": true
   },
   "outputs": [],
   "source": []
  },
  {
   "cell_type": "code",
   "execution_count": null,
   "metadata": {
    "collapsed": true
   },
   "outputs": [],
   "source": []
  },
  {
   "cell_type": "code",
   "execution_count": null,
   "metadata": {
    "collapsed": true
   },
   "outputs": [],
   "source": []
  },
  {
   "cell_type": "code",
   "execution_count": null,
   "metadata": {
    "collapsed": true
   },
   "outputs": [],
   "source": []
  },
  {
   "cell_type": "code",
   "execution_count": null,
   "metadata": {
    "collapsed": true
   },
   "outputs": [],
   "source": []
  },
  {
   "cell_type": "code",
   "execution_count": null,
   "metadata": {
    "collapsed": true
   },
   "outputs": [],
   "source": []
  },
  {
   "cell_type": "code",
   "execution_count": null,
   "metadata": {
    "collapsed": true
   },
   "outputs": [],
   "source": []
  },
  {
   "cell_type": "code",
   "execution_count": null,
   "metadata": {
    "collapsed": true
   },
   "outputs": [],
   "source": []
  },
  {
   "cell_type": "code",
   "execution_count": null,
   "metadata": {
    "collapsed": true
   },
   "outputs": [],
   "source": []
  },
  {
   "cell_type": "code",
   "execution_count": null,
   "metadata": {
    "collapsed": true
   },
   "outputs": [],
   "source": []
  },
  {
   "cell_type": "code",
   "execution_count": null,
   "metadata": {
    "collapsed": true
   },
   "outputs": [],
   "source": []
  },
  {
   "cell_type": "code",
   "execution_count": null,
   "metadata": {
    "collapsed": true
   },
   "outputs": [],
   "source": []
  },
  {
   "cell_type": "code",
   "execution_count": null,
   "metadata": {
    "collapsed": true
   },
   "outputs": [],
   "source": []
  },
  {
   "cell_type": "code",
   "execution_count": null,
   "metadata": {
    "collapsed": true
   },
   "outputs": [],
   "source": []
  },
  {
   "cell_type": "code",
   "execution_count": null,
   "metadata": {
    "collapsed": true
   },
   "outputs": [],
   "source": []
  },
  {
   "cell_type": "code",
   "execution_count": null,
   "metadata": {
    "collapsed": true
   },
   "outputs": [],
   "source": []
  },
  {
   "cell_type": "code",
   "execution_count": null,
   "metadata": {
    "collapsed": true
   },
   "outputs": [],
   "source": []
  },
  {
   "cell_type": "code",
   "execution_count": null,
   "metadata": {
    "collapsed": true
   },
   "outputs": [],
   "source": []
  },
  {
   "cell_type": "code",
   "execution_count": null,
   "metadata": {
    "collapsed": true
   },
   "outputs": [],
   "source": []
  },
  {
   "cell_type": "code",
   "execution_count": null,
   "metadata": {
    "collapsed": true
   },
   "outputs": [],
   "source": []
  },
  {
   "cell_type": "code",
   "execution_count": null,
   "metadata": {
    "collapsed": true
   },
   "outputs": [],
   "source": []
  },
  {
   "cell_type": "code",
   "execution_count": null,
   "metadata": {
    "collapsed": true
   },
   "outputs": [],
   "source": []
  },
  {
   "cell_type": "markdown",
   "metadata": {},
   "source": [
    "# 8\n",
    "##下面的Code用于输出给定的一个细胞类型间和其他的细胞类型间相互最优Recepter-Ligand"
   ]
  },
  {
   "cell_type": "code",
   "execution_count": 21,
   "metadata": {
    "collapsed": true
   },
   "outputs": [],
   "source": [
    "##8\n",
    "##下面的Code用于输出给定的一个细胞类型间和其他的细胞类型间相互最优Recepter-Ligand\n",
    "def FindFromTo(FDC_df_Final,AllRL,Celltype,x=0.2,tho=0.5):\n",
    "    Index=AllRL+[i.split('-')[1]+'-'+i.split('-')[0] for i in AllRL]\n",
    "    DF=pd.DataFrame({},index=Index)\n",
    "    From=[i.split('-')[0] for i in Index]\n",
    "    To=[i.split('-')[1] for i in Index]\n",
    "    A=Celltype\n",
    "    Bs=[i for i in list(FDC_df_Final) if i!=A]\n",
    "    DF[A]=list(FDC_df_Final.loc[From][A])\n",
    "    for ct in Bs:\n",
    "        DF[ct]=list(FDC_df_Final.loc[To][ct])\n",
    "\n",
    "    for rl in list(DF.index):\n",
    "        f=rl.split('-')[0]\n",
    "        t=rl.split('-')[1]\n",
    "        D=list(DF.loc[rl])\n",
    "        Judge=[Muxp(D[0],D[1]),Muxp(D[0],D[2]),Muxp(D[0],D[3])]\n",
    "        if (max(Judge)<x) or (max(D)<tho):\n",
    "            Dn=[0,0,0,0]\n",
    "        else:   \n",
    "            if D[0]>0.95:\n",
    "                Dn=['+'+f]\n",
    "            else:\n",
    "                Dn=[f]\n",
    "            for d in D[1:]:\n",
    "                if (Muxp(D[0],d)>x):\n",
    "                    if d>0.95:\n",
    "                        Dn.append('+'+t)\n",
    "                    else:\n",
    "                        Dn.append(t)\n",
    "                else:\n",
    "                    Dn.append(0)\n",
    "        DF.loc[rl]=Dn\n",
    "    #去除都是0的列\n",
    "    def judgeZero(L):return [i==0 for i in L]\n",
    "    DFjudge=DF.apply(judgeZero,axis=1).apply(sum,axis=1)<4\n",
    "    Dir=os.path.join(outDir,'Circus_plot_'+str(x))\n",
    "    Mkdir(Dir)\n",
    "    Save(DF[DFjudge],os.path.join(Dir,'NetWork_'+Celltype+'.txt')  ) \n",
    "    return DF[DFjudge],os.path.join(Dir,'NetWork_'+Celltype+'.txt')   \n",
    "    "
   ]
  },
  {
   "cell_type": "code",
   "execution_count": 25,
   "metadata": {
    "collapsed": true
   },
   "outputs": [],
   "source": [
    "AllRL=list(RLCellTypes_df.index)\n",
    "DC_df,DC_file=FindFromTo(FDC_df_Final,AllRL,'DC',10,5)  \n",
    "CD4_df,CD4_file=FindFromTo(FDC_df_Final,AllRL,'CD4',10,5)      \n",
    "CD8_df,CD8_file=FindFromTo(FDC_df_Final,AllRL,'CD8',10,5)     \n",
    "Fib_df,Fib_file=FindFromTo(FDC_df_Final,AllRL,'Fib',10,5)     \n",
    "\n",
    "AllRL=list(Norm_RLCellTypes_df.index)\n",
    "Norm_DC_df,Norm_DC_file=FindFromTo(FDC_df_NormH,AllRL,'DC',10,5)  \n",
    "Norm_CD4_df,Norm_CD4_file=FindFromTo(FDC_df_NormH,AllRL,'CD4',10,5)      \n",
    "Norm_CD8_df,Norm_CD8_file=FindFromTo(FDC_df_NormH,AllRL,'CD8',10,5)     \n",
    "Norm_Fib_df,Norm_Fib_file=FindFromTo(FDC_df_NormH,AllRL,'Fib',10,5)     \n",
    "\n"
   ]
  },
  {
   "cell_type": "code",
   "execution_count": 286,
   "metadata": {},
   "outputs": [
    {
     "name": "stdout",
     "output_type": "stream",
     "text": [
      "/Users/liuqian/Documents/A_SSC_project/NetWork2/Max.10/Circus_plot_10/NetWork_DC.txt\n",
      "/Users/liuqian/Documents/A_SSC_project/NetWork2/Max.10/Circus_plot_10/NetWork_CD4.txt\n",
      "/Users/liuqian/Documents/A_SSC_project/NetWork2/Max.10/Circus_plot_10/NetWork_CD8.txt\n",
      "/Users/liuqian/Documents/A_SSC_project/NetWork2/Max.10/Circus_plot_10/NetWork_Fib.txt\n"
     ]
    }
   ],
   "source": [
    "#进入以上每个文件将文件第一行开头的制表符去掉\n",
    "for File in [DC_file,CD4_file,CD8_file,Fib_file]:\n",
    "    print File\n",
    "    os.system('/usr/local/bin/Rscript /Users/liuqian/Documents/A_SSC_project/NetWork2/SSC_CircusPlot_ForOneCelltype.R {}'.format(File))\n",
    "\n"
   ]
  },
  {
   "cell_type": "code",
   "execution_count": 26,
   "metadata": {},
   "outputs": [
    {
     "name": "stdout",
     "output_type": "stream",
     "text": [
      "/Users/liuqian/Documents/A_SSC_project/NetWork2/Max.10/Circus_plot_10/NetWork_DC.txt\n",
      "/Users/liuqian/Documents/A_SSC_project/NetWork2/Max.10/Circus_plot_10/NetWork_CD4.txt\n",
      "/Users/liuqian/Documents/A_SSC_project/NetWork2/Max.10/Circus_plot_10/NetWork_CD8.txt\n",
      "/Users/liuqian/Documents/A_SSC_project/NetWork2/Max.10/Circus_plot_10/NetWork_Fib.txt\n"
     ]
    }
   ],
   "source": [
    "for File in [Norm_DC_file,Norm_CD4_file,Norm_CD8_file,Norm_Fib_file]:\n",
    "    print File\n",
    "    os.system('/usr/local/bin/Rscript /Users/liuqian/Documents/A_SSC_project/NetWork2/SSC_CircusPlot_ForOneCelltype.R {}'.format(File))\n",
    "\n"
   ]
  },
  {
   "cell_type": "code",
   "execution_count": null,
   "metadata": {
    "collapsed": true
   },
   "outputs": [],
   "source": []
  },
  {
   "cell_type": "code",
   "execution_count": null,
   "metadata": {
    "collapsed": true
   },
   "outputs": [],
   "source": []
  }
 ],
 "metadata": {
  "kernelspec": {
   "display_name": "Python [default]",
   "language": "python",
   "name": "python2"
  },
  "language_info": {
   "codemirror_mode": {
    "name": "ipython",
    "version": 2
   },
   "file_extension": ".py",
   "mimetype": "text/x-python",
   "name": "python",
   "nbconvert_exporter": "python",
   "pygments_lexer": "ipython2",
   "version": "2.7.14"
  }
 },
 "nbformat": 4,
 "nbformat_minor": 2
}
